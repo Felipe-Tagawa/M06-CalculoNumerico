{
  "cells": [
    {
      "cell_type": "markdown",
      "id": "b16fb5f3",
      "metadata": {
        "id": "b16fb5f3"
      },
      "source": [
        "## Nome: Felipe Tagawa Reis\n",
        "## Matricula: 2037"
      ]
    },
    {
      "cell_type": "markdown",
      "id": "49f05b5a",
      "metadata": {
        "id": "49f05b5a"
      },
      "source": [
        "---"
      ]
    },
    {
      "cell_type": "markdown",
      "id": "53b490c0",
      "metadata": {
        "id": "53b490c0"
      },
      "source": [
        "## **Atividade 5** - Localização e Refinamento de Raízes"
      ]
    },
    {
      "cell_type": "markdown",
      "id": "1dbea31f",
      "metadata": {
        "id": "1dbea31f"
      },
      "source": [
        "## Funções Auxiliares"
      ]
    },
    {
      "cell_type": "code",
      "execution_count": 1,
      "id": "14c6a5ac",
      "metadata": {
        "id": "14c6a5ac"
      },
      "outputs": [],
      "source": [
        "# Plotar gráficos\n",
        "import seaborn as sns\n",
        "import matplotlib.pyplot as plt\n",
        "\n",
        "# Analise de dados\n",
        "import numpy as np\n",
        "import pandas as pd"
      ]
    },
    {
      "cell_type": "markdown",
      "id": "5cc80e43",
      "metadata": {
        "id": "5cc80e43"
      },
      "source": [
        "### Função e Derivada da Função"
      ]
    },
    {
      "cell_type": "code",
      "execution_count": 2,
      "id": "aa5d6567",
      "metadata": {
        "id": "aa5d6567"
      },
      "outputs": [],
      "source": [
        "def target_function(x):\n",
        "    return x**3 - 2*x**2 - 3*x + 1\n",
        "\n",
        "def derivative_function(x):\n",
        "    return 3*x**2 - 4*x - 3\n",
        "\n",
        "intervalo = [-5, 5]"
      ]
    },
    {
      "cell_type": "markdown",
      "id": "9ab49d38",
      "metadata": {
        "id": "9ab49d38"
      },
      "source": [
        "### Método de Newton-Raphson"
      ]
    },
    {
      "cell_type": "code",
      "execution_count": 3,
      "id": "31cc462c",
      "metadata": {
        "id": "31cc462c"
      },
      "outputs": [],
      "source": [
        "# implementa o processo de iteração usando a fórmula de Newton-Raphson\n",
        "def newton_raphson_method(initial_guess, tolerance, max_iterations):\n",
        "    \"\"\"\n",
        "    Aplica o método de Newton–Raphson para aproximar uma raiz de target_function(x).\n",
        "\n",
        "    :param initial_guess: chute inicial x0\n",
        "    :param tolerance: tolerância para parada (critério |f(x)| < tolerance)\n",
        "    :param max_iterations: número máximo de iterações\n",
        "    :return: raiz aproximada (float), número de iterações (int)\n",
        "    \"\"\"\n",
        "    x_n = initial_guess\n",
        "    for iteration in range(max_iterations):\n",
        "        f_x = target_function(x_n)\n",
        "        f_prime_x = derivative_function(x_n)\n",
        "\n",
        "        # Evitar divisão por zero\n",
        "        if f_prime_x == 0:\n",
        "            print(\"A derivada é zero. Não é possível prosseguir.\")\n",
        "            return x_n, iteration + 1 # Retornar a aproximação atual e a contagem de iterações\n",
        "\n",
        "        # Verificar convergência com base na tolerância\n",
        "        if abs(f_x) < tolerance:\n",
        "            return x_n, iteration + 1 # Retornar a raiz e a contagem de iterações\n",
        "\n",
        "        x_n = x_n - f_x / f_prime_x\n",
        "\n",
        "    # Se o número máximo de iterações for atingido sem convergência\n",
        "    print(\"Número máximo de iterações atingido sem alcançar a tolerância desejada.\")\n",
        "    return x_n, max_iterations"
      ]
    },
    {
      "cell_type": "markdown",
      "id": "5e44a274",
      "metadata": {
        "id": "5e44a274"
      },
      "source": [
        "---"
      ]
    },
    {
      "cell_type": "markdown",
      "id": "4afa8049",
      "metadata": {
        "id": "4afa8049"
      },
      "source": [
        "## Parte Prática\n",
        "No Inatel, os alunos de engenharia muitas vezes precisam analisar funções matemáticas para resolver problemas práticos, como verificar o comportamento de circuitos, sinais ou sistemas de controle. Encontrar as raízes de uma função é um passo importante nesses contextos, pois pode indicar pontos de equilíbrio, frequências de ressonância ou condições de operação de um sistema.\n",
        "\n",
        "Seja a função\n",
        "$f(x) = x^3 – 2x^2 – 3x + 1$.\n",
        "\n",
        "Sabendo que esta função possui raízes no intervalo [−5,5], utilize o TEU com espaçamento de 1 para localizar os intervalos que contêm cada uma das raízes reais da função."
      ]
    },
    {
      "cell_type": "code",
      "execution_count": 4,
      "id": "fca47a69",
      "metadata": {
        "colab": {
          "base_uri": "https://localhost:8080/"
        },
        "id": "fca47a69",
        "outputId": "92907b31-2bcf-4fe0-8e3c-921be2322c4c"
      },
      "outputs": [
        {
          "output_type": "stream",
          "name": "stdout",
          "text": [
            " x f(x) f1(x)\n",
            "-5 -159    92\n",
            "-4  -83    61\n",
            "-3  -35    36\n",
            "-2   -9    17\n",
            "-1    1     4\n",
            " 0    1    -3\n",
            " 1   -3    -4\n",
            " 2   -5     1\n",
            " 3    1    12\n",
            " 4   21    29\n",
            " 5   61    52\n"
          ]
        }
      ],
      "source": [
        "df = pd.DataFrame(columns=[\"x\", \"f(x)\", \"f1(x)\"])\n",
        "for x in range(intervalo[0], intervalo[1]+1):\n",
        "    df = pd.concat([df, pd.DataFrame({\"x\": [x], \"f(x)\": [target_function(x)], \"f1(x)\": [derivative_function(x)]})]).reset_index(drop=True)\n",
        "\n",
        "print(df.to_string(index=False))"
      ]
    },
    {
      "cell_type": "markdown",
      "id": "970bae20",
      "metadata": {
        "id": "970bae20"
      },
      "source": [
        "1. Utilizando o Teorema do Valor Intermediário (TEU) e espaçamento unitário no intervalo [−5,5], determine os subintervalos que contêm cada uma das raízes reais da função."
      ]
    },
    {
      "cell_type": "code",
      "execution_count": 8,
      "id": "7b2aca71",
      "metadata": {
        "colab": {
          "base_uri": "https://localhost:8080/"
        },
        "id": "7b2aca71",
        "outputId": "db7dd5a3-55c0-40bd-b888-056ef35e16a8"
      },
      "outputs": [
        {
          "output_type": "stream",
          "name": "stdout",
          "text": [
            "Chutes iniciais (Newton-Raphson): [-1.5, 0.5, 2.5]\n"
          ]
        }
      ],
      "source": [
        "def mudou_sinal(fa, fb):\n",
        "    # TEU: existe raiz em [a,b] se f é contínua e fa*fb < 0\n",
        "    return fa * fb < 0\n",
        "\n",
        "intervalos = []\n",
        "chutes_iniciais = []\n",
        "for x in range(df.shape[0]-1):\n",
        "    # 1. Verificar se há mudança de sinal na função\n",
        "    fa = df[\"f(x)\"].iloc[x]\n",
        "    fb = df[\"f(x)\"].iloc[x+1]\n",
        "    xa = df[\"x\"].iloc[x]\n",
        "    xb = df[\"x\"].iloc[x+1]\n",
        "    if mudou_sinal(fa, fb):\n",
        "      intervalos.append((xa,xb))\n",
        "      chutes_iniciais.append((xa+xb)/2)\n",
        "      continue\n",
        "\n",
        "    # 2. Escolher os chutes iniciais para Newton-Raphson (utilize o ponto médio do intervalo)\n",
        "print(\"Chutes iniciais (Newton-Raphson):\", chutes_iniciais)"
      ]
    },
    {
      "cell_type": "markdown",
      "id": "3ae21297",
      "metadata": {
        "id": "3ae21297"
      },
      "source": [
        "2. Identifique visualmente os pontos onde a curva cruza o eixo x e compare com os intervalos obtidos pelo TEU."
      ]
    },
    {
      "cell_type": "code",
      "execution_count": 16,
      "id": "bf7ba2a5",
      "metadata": {
        "colab": {
          "base_uri": "https://localhost:8080/",
          "height": 487
        },
        "id": "bf7ba2a5",
        "outputId": "80cbff33-4075-4454-d217-1a0905ba6847"
      },
      "outputs": [
        {
          "output_type": "display_data",
          "data": {
            "text/plain": [
              "<Figure size 800x500 with 1 Axes>"
            ],
            "image/png": "[encoded data removed]"
          },
          "metadata": {}
        }
      ],
      "source": [
        "# Plote um gráfico de linhas que mostre a função.\n",
        "plt.figure(figsize=(8,5))\n",
        "\n",
        "# Função original\n",
        "plt.plot(df[\"x\"], df[\"f(x)\"], label=\"f(x)\", color=\"red\")\n",
        "\n",
        "# Linha do eixo x para base\n",
        "plt.axhline(0, color=\"black\", linestyle=\"--\", linewidth=1)\n",
        "\n",
        "# Marcar os chutes iniciais obtidos pelo TEU\n",
        "for chute in chutes_iniciais:\n",
        "    plt.axvline(chute, color=\"orange\", linestyle=\":\", linewidth=1)\n",
        "\n",
        "plt.legend()\n",
        "plt.title(\"Função f(x)\")\n",
        "plt.xlabel(\"x\")\n",
        "plt.ylabel(\"y\")\n",
        "plt.grid(True)\n",
        "plt.show()\n"
      ]
    },
    {
      "cell_type": "markdown",
      "id": "f596fba1",
      "metadata": {
        "id": "f596fba1"
      },
      "source": [
        "3. Implemente o Método de Newton-Raphson nos pontos iniciais obtidos."
      ]
    },
    {
      "cell_type": "code",
      "execution_count": 21,
      "id": "17d9f803",
      "metadata": {
        "colab": {
          "base_uri": "https://localhost:8080/"
        },
        "id": "17d9f803",
        "outputId": "e9d55807-d50f-482c-f202-70fe71904277"
      },
      "outputs": [
        {
          "output_type": "stream",
          "name": "stdout",
          "text": [
            "Chute inicial -1.5 → raiz encontrada: (-1.1986912435638974, 5)\n",
            "Chute inicial 0.5 → raiz encontrada: (0.2864620651145184, 4)\n",
            "Chute inicial 2.5 → raiz encontrada: (2.912229178484397, 6)\n"
          ]
        }
      ],
      "source": [
        "tolerancia = 1e-9\n",
        "iteracao_max = 250\n",
        "\n",
        "# Implementação do método consta nas funções auxiliares\n",
        "\n",
        "chutes = [-1.5, 0.5, 2.5]\n",
        "for chute in chutes:\n",
        "    raiz = newton_raphson_method(chute, tolerancia, iteracao_max)\n",
        "    print(f\"Chute inicial {chute} → raiz encontrada: {raiz}\")"
      ]
    },
    {
      "cell_type": "markdown",
      "id": "89f288ef",
      "metadata": {
        "id": "89f288ef"
      },
      "source": [
        "4. Implemente o Método de Bissecção"
      ]
    },
    {
      "cell_type": "code",
      "execution_count": 22,
      "id": "5c0983b8",
      "metadata": {
        "colab": {
          "base_uri": "https://localhost:8080/"
        },
        "id": "5c0983b8",
        "outputId": "5130d3d3-e18a-4a6a-8059-52dfca433e6f"
      },
      "outputs": [
        {
          "output_type": "stream",
          "name": "stdout",
          "text": [
            "(-1.198691243189387, 33)\n"
          ]
        }
      ],
      "source": [
        "def bissecao(f, a, b, tol=1e-6, max_iter=100):\n",
        "    fa = f(a)\n",
        "    fb = f(b)\n",
        "\n",
        "    for i in range(max_iter):\n",
        "        m = (a + b) / 2  # ponto médio\n",
        "        fm = f(m)\n",
        "\n",
        "        if abs(fm) < tol or (b - a) / 2 < tol:\n",
        "            return m, i  # raiz aproximada e número de iterações\n",
        "\n",
        "        if fa * fm < 0:\n",
        "            b, fb = m, fm\n",
        "        else:\n",
        "            a, fa = m, fm\n",
        "\n",
        "    return m, max_iter\n",
        "\n",
        "print(bissecao(target_function, intervalo[0], intervalo[1], tolerancia, iteracao_max))"
      ]
    },
    {
      "cell_type": "markdown",
      "id": "a29c8d71",
      "metadata": {
        "id": "a29c8d71"
      },
      "source": [
        "---\n",
        "## Parte Teórica"
      ]
    },
    {
      "cell_type": "markdown",
      "id": "df162c4e",
      "metadata": {
        "id": "df162c4e"
      },
      "source": [
        "1. Quais são as limitações do uso do TEU para encontrar raízes de funções?"
      ]
    },
    {
      "cell_type": "markdown",
      "id": "3834bc67",
      "metadata": {
        "id": "3834bc67"
      },
      "source": [
        "Resposta: O TEU depende de continuidade na função no intervalo [a,b];\n",
        "Não localiza a raiz, necessitando de outros métodos pra complementação;\n",
        "Pode ter problemas na análise de intervalos grandes, 'escondendo' valores de raízes próximas."
      ]
    },
    {
      "cell_type": "markdown",
      "id": "476817ef",
      "metadata": {
        "id": "476817ef"
      },
      "source": [
        "2. Qual é a principal vantagem do método da bissecção em relação a outros métodos numéricos?"
      ]
    },
    {
      "cell_type": "markdown",
      "id": "8e1783e1",
      "metadata": {
        "id": "8e1783e1"
      },
      "source": [
        "Resposta: É um método simples que independe de aproximações iniciais muito próximas da raiz, como é o caso do método de Newton-Raphson, sempre encontrando uma raiz dentro do intervalo escolhido (depende do TEU), mas convergindo sempre."
      ]
    },
    {
      "cell_type": "markdown",
      "id": "a830145f",
      "metadata": {
        "id": "a830145f"
      },
      "source": [
        "3. Em quais situações o método de Newton-Raphson pode falhar ou não convergir?"
      ]
    },
    {
      "cell_type": "markdown",
      "id": "c0af7d69",
      "metadata": {
        "id": "c0af7d69"
      },
      "source": [
        "Resposta: Alguns casos são: escolha ruim do chute inicial (esse método funciona melhor pra pontos iniciais próximos da raiz); a derivada da função tiver descontinuidade; derivada igual a 0."
      ]
    }
  ],
  "metadata": {
    "colab": {
      "provenance": []
    },
    "kernel_info": {
      "name": "python"
    },
    "kernelspec": {
      "display_name": ".venv",
      "language": "python",
      "name": "python3"
    },
    "language_info": {
      "codemirror_mode": {
        "name": "ipython",
        "version": 3
      },
      "file_extension": ".py",
      "mimetype": "text/x-python",
      "name": "python",
      "nbconvert_exporter": "python",
      "pygments_lexer": "ipython3",
      "version": "3.13.7"
    },
    "nteract": {
      "version": "nteract-front-end@1.0.0"
    }
  },
  "nbformat": 4,
  "nbformat_minor": 5
}