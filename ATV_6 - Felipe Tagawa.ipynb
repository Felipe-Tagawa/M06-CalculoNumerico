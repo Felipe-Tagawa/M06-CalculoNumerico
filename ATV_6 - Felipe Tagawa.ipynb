{
  "cells": [
    {
      "cell_type": "markdown",
      "id": "2db1adc9",
      "metadata": {
        "id": "2db1adc9"
      },
      "source": [
        "## Nome: Felipe Tagawa Reis\n",
        "## Matricula: 2037"
      ]
    },
    {
      "cell_type": "markdown",
      "id": "83e44c4f",
      "metadata": {
        "id": "83e44c4f"
      },
      "source": [
        "## **Atividade 6** - Métodos Iterativos de Jacobi e de Gauss-Seidel"
      ]
    },
    {
      "cell_type": "markdown",
      "id": "343c9d3b",
      "metadata": {
        "id": "343c9d3b"
      },
      "source": [
        "## Funções Auxiliares"
      ]
    },
    {
      "cell_type": "code",
      "execution_count": 1,
      "id": "54ba8d57",
      "metadata": {
        "id": "54ba8d57"
      },
      "outputs": [],
      "source": [
        "# Plotar gráficos\n",
        "import seaborn as sns\n",
        "import matplotlib.pyplot as plt\n",
        "\n",
        "# Analise de dados\n",
        "import numpy as np\n",
        "import pandas as pd\n"
      ]
    },
    {
      "cell_type": "markdown",
      "id": "3c1f62dd",
      "metadata": {
        "id": "3c1f62dd"
      },
      "source": [
        "### Método de Gauss-Seidel"
      ]
    },
    {
      "cell_type": "code",
      "execution_count": 2,
      "id": "41fe46a8",
      "metadata": {
        "id": "41fe46a8"
      },
      "outputs": [],
      "source": [
        "# Implementa o processo de iteração usando o método de Gauss-Seidel\n",
        "def gauss_seidel_method(A, b, initial_guess=None, tolerance=1e-6, max_iterations=100):\n",
        "    \"\"\"\n",
        "    Aplica o método de Gauss-Seidel para resolver sistemas lineares Ax = b.\n",
        "\n",
        "    :param A: matriz dos coeficientes (numpy array)\n",
        "    :param b: vetor de constantes (numpy array)\n",
        "    :param initial_guess: chute inicial (vetor, opcional)\n",
        "    :param tolerance: critério de parada (diferença máxima entre iterações consecutivas)\n",
        "    :param max_iterations: número máximo de iterações\n",
        "    :return: vetor solução aproximada (numpy array), número de iterações realizadas (int)\n",
        "    \"\"\"\n",
        "    n = len(b)\n",
        "    x = np.zeros_like(b, dtype=float) if initial_guess is None else initial_guess.astype(float)\n",
        "\n",
        "    for iteration in range(max_iterations):\n",
        "        x_new = np.copy(x)\n",
        "\n",
        "        for i in range(n):\n",
        "            soma_antes = np.dot(A[i, :i], x_new[:i])   # valores já atualizados\n",
        "            soma_depois = np.dot(A[i, i+1:], x[i+1:])  # valores antigos\n",
        "            x_new[i] = (b[i] - soma_antes - soma_depois) / A[i, i]\n",
        "\n",
        "        # critério de parada\n",
        "        if np.linalg.norm(x_new - x, ord=np.inf) < tolerance:\n",
        "            return x_new, iteration + 1\n",
        "\n",
        "        x = x_new\n",
        "\n",
        "    return x, max_iterations\n"
      ]
    },
    {
      "cell_type": "markdown",
      "id": "ff6822e8",
      "metadata": {
        "id": "ff6822e8"
      },
      "source": [
        "### Método de Gauss-Jacobi"
      ]
    },
    {
      "cell_type": "code",
      "execution_count": 3,
      "id": "b4eb98a0",
      "metadata": {
        "id": "b4eb98a0"
      },
      "outputs": [],
      "source": [
        "def jacobi(A, b, chute_inicial=None, tolerancia=1e-6, max_iteracoes=100):\n",
        "    \"\"\"\n",
        "    Resolve Ax = b pelo método de Jacobi.\n",
        "    \"\"\"\n",
        "    n = len(b)\n",
        "    x = np.zeros_like(b, dtype=float) if chute_inicial is None else chute_inicial.astype(float)\n",
        "\n",
        "    for k in range(max_iteracoes):\n",
        "        x_novo = np.zeros_like(x, dtype=float)\n",
        "\n",
        "        for i in range(n):\n",
        "            soma = 0\n",
        "            for j in range(n):\n",
        "                if j != i:\n",
        "                    soma += A[i][j] * x[j]   # aqui usa APENAS os valores da iteração anterior\n",
        "            x_novo[i] = (b[i] - soma) / A[i][i]\n",
        "\n",
        "        # critério de parada\n",
        "        if np.linalg.norm(x_novo - x, ord=np.inf) < tolerancia:\n",
        "            return x_novo, k + 1\n",
        "\n",
        "        x = x_novo\n",
        "\n",
        "    return x, max_iteracoes\n"
      ]
    },
    {
      "cell_type": "markdown",
      "id": "12385642",
      "metadata": {
        "id": "12385642"
      },
      "source": [
        "---"
      ]
    },
    {
      "cell_type": "markdown",
      "id": "f7167e3a",
      "metadata": {
        "id": "f7167e3a"
      },
      "source": [
        "## Parte Prática"
      ]
    },
    {
      "cell_type": "markdown",
      "id": "b8654799",
      "metadata": {
        "id": "b8654799"
      },
      "source": [
        "!!! O principal objetivo da parte prática, será a resolução e a compreensão de sistemas lineares usando os métodos de Gauss-Seidel e de Jacobi"
      ]
    },
    {
      "cell_type": "markdown",
      "id": "ca872349",
      "metadata": {
        "id": "ca872349"
      },
      "source": [
        "Abaixo, terá para vocês, o sistema no formato matricial e no formato clássico de um sistema. Ambas as formas podem ser usadas para representar um sistema de Equação!"
      ]
    },
    {
      "cell_type": "code",
      "execution_count": 4,
      "id": "4586ffbf",
      "metadata": {
        "colab": {
          "base_uri": "https://localhost:8080/"
        },
        "id": "4586ffbf",
        "outputId": "4d5c8ffc-b3f0-4c0d-91fa-46db8d4d902e"
      },
      "outputs": [
        {
          "output_type": "stream",
          "name": "stdout",
          "text": [
            " X  Y  Z  =\n",
            " 4  1  2  4\n",
            " 3  5  1  7\n",
            " 1  1  3  3\n"
          ]
        }
      ],
      "source": [
        "# Saida na forma Matricial\n",
        "A = [\n",
        "    [4,1,2],\n",
        "    [3,5,1],\n",
        "    [1,1,3]\n",
        "]\n",
        "b = [4,7,3]\n",
        "\n",
        "df = pd.DataFrame(A, columns=[\"X\", \"Y\", \"Z\"])\n",
        "df[\"=\"] = b\n",
        "print(df.to_string(index=False))"
      ]
    },
    {
      "cell_type": "code",
      "execution_count": 5,
      "id": "7c20eab3",
      "metadata": {
        "colab": {
          "base_uri": "https://localhost:8080/"
        },
        "id": "7c20eab3",
        "outputId": "68c03cae-5f9e-4a3a-c354-8908bdf70177"
      },
      "outputs": [
        {
          "output_type": "stream",
          "name": "stdout",
          "text": [
            "\n",
            "⎧ 4x + y + 2z = 4\n",
            "⎨ 3x + 5y + z = 7\n",
            "⎩ x + y + 3z = 3\n",
            "\n"
          ]
        }
      ],
      "source": [
        "sistema = f\"\"\"\n",
        "⎧ 4x + y + 2z = 4\n",
        "⎨ 3x + 5y + z = 7\n",
        "⎩ x + y + 3z = 3\n",
        "\"\"\"\n",
        "print(sistema)\n"
      ]
    },
    {
      "cell_type": "markdown",
      "id": "c2066ce8",
      "metadata": {
        "id": "c2066ce8"
      },
      "source": [
        "---"
      ]
    },
    {
      "cell_type": "markdown",
      "id": "ccfd3123",
      "metadata": {
        "id": "ccfd3123"
      },
      "source": [
        "1-Resolva o sistema acima utilizando o método de Gauss-Seidel até atingir uma precisão de 10^-6:"
      ]
    },
    {
      "cell_type": "code",
      "execution_count": 6,
      "id": "338022c0",
      "metadata": {
        "colab": {
          "base_uri": "https://localhost:8080/"
        },
        "id": "338022c0",
        "outputId": "c2100a39-cbf0-4127-9eb9-de1672b1893c"
      },
      "outputs": [
        {
          "output_type": "stream",
          "name": "stdout",
          "text": [
            "(array([0.50000005, 0.99999998, 0.49999999]), 11)\n"
          ]
        }
      ],
      "source": [
        "#Resolva aqui a questão 1, usando como base, o código fornecido à respeito de método de Gauss-Seidel, fornecido no início do Notebook\n",
        "A = np.array(A)\n",
        "b = np.array(b)\n",
        "print(gauss_seidel_method(A, b))\n",
        "\n"
      ]
    },
    {
      "cell_type": "markdown",
      "id": "a3cd259b",
      "metadata": {
        "id": "a3cd259b"
      },
      "source": [
        "2- Resolva o mesmo sistema acima, porém utilizando o método de Gauss-Jacobi até atingir uma precisão de 10^-6"
      ]
    },
    {
      "cell_type": "code",
      "execution_count": 7,
      "id": "9f92853c",
      "metadata": {
        "colab": {
          "base_uri": "https://localhost:8080/"
        },
        "id": "9f92853c",
        "outputId": "a92cebdf-74f6-41e8-9f13-50b8d1701b8b"
      },
      "outputs": [
        {
          "output_type": "stream",
          "name": "stdout",
          "text": [
            "(array([0.50000036, 1.00000038, 0.50000034]), 47)\n"
          ]
        }
      ],
      "source": [
        "#Resolva aqui a questão 2, usando como base, o código fornecido à respeito de método de Gauss-Jacobi, fornecido no início do Notebook\n",
        "print(jacobi(A, b))"
      ]
    },
    {
      "cell_type": "markdown",
      "id": "19ad5d50",
      "metadata": {
        "id": "19ad5d50"
      },
      "source": [
        "---\n",
        "## Parte Teórica"
      ]
    },
    {
      "cell_type": "markdown",
      "id": "fe9a5b06",
      "metadata": {
        "id": "fe9a5b06"
      },
      "source": [
        "1.Explique com suas próprias palavras, a principal diferença entre o método de Jacobi e o método de Gauss-Seidel."
      ]
    },
    {
      "cell_type": "markdown",
      "id": "ef91f214",
      "metadata": {
        "id": "ef91f214"
      },
      "source": [
        "Resposta: A principal diferença se encontra no fato de que o Método de Jacobi utiliza os valores da iteração anterior para análise, enquanto o outro método usa os valores mais recentes calculados dentro da própria iteração do momento para atualização dos valores."
      ]
    },
    {
      "cell_type": "markdown",
      "id": "a6ef3069",
      "metadata": {
        "id": "a6ef3069"
      },
      "source": [
        "2. O que é uma matriz estritamente diagonalmente dominante?\n",
        "\n",
        "    Explique sua importância para a convergência dos métodos iterativos Jacobi e Gauss-Seidel."
      ]
    },
    {
      "cell_type": "markdown",
      "id": "378216f4",
      "metadata": {
        "id": "378216f4"
      },
      "source": [
        "Resposta: Uma matriz estritamente diagonalmente dominante é uma matriz quadrada que, para cada linha, o valor em módulo da diagonal principal é maior do que a soma dos valores absolutos de todos os outros elementos dessa linha. Só podemos dizer com certeza que haverá convergência se a matriz for estritamente diagonalmente dominante."
      ]
    },
    {
      "cell_type": "markdown",
      "id": "912a5439",
      "metadata": {
        "id": "912a5439"
      },
      "source": [
        "3. Explique com suas próprias palavras a principal diferença entre uma solução exata e uma solução aproximada de um sistema linear."
      ]
    },
    {
      "cell_type": "markdown",
      "id": "18bc73ee",
      "metadata": {
        "id": "18bc73ee"
      },
      "source": [
        "Resposta: As soluções exatas correspondem ao conjunto de valores que satisfazem todas as equações do sistema simultaneamente. O mesmo não ocorre com as soluções aproximadas que são uma estimativa dos valores das incógnitas que quase satisfazem as equações."
      ]
    }
  ],
  "metadata": {
    "kernelspec": {
      "display_name": "Python 3",
      "language": "python",
      "name": "python3"
    },
    "language_info": {
      "codemirror_mode": {
        "name": "ipython",
        "version": 3
      },
      "file_extension": ".py",
      "mimetype": "text/x-python",
      "name": "python",
      "nbconvert_exporter": "python",
      "pygments_lexer": "ipython3",
      "version": "3.13.3"
    },
    "colab": {
      "provenance": []
    }
  },
  "nbformat": 4,
  "nbformat_minor": 5
}