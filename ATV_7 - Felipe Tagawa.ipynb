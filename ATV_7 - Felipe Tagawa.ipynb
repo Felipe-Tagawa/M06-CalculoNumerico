{
  "cells": [
    {
      "cell_type": "markdown",
      "source": [
        "## Nome: Felipe Tagawa Reis\n",
        "## Mátricula: 2037"
      ],
      "metadata": {
        "id": "c9af7e89"
      },
      "id": "c9af7e89"
    },
    {
      "cell_type": "markdown",
      "source": [
        "---"
      ],
      "metadata": {
        "id": "cfbb7848"
      },
      "id": "cfbb7848"
    },
    {
      "cell_type": "markdown",
      "source": [
        "## Interpolação de Lagrange"
      ],
      "metadata": {
        "id": "3e48fd0a"
      },
      "id": "3e48fd0a"
    },
    {
      "cell_type": "markdown",
      "source": [
        "### Função de interpolação de Lagrange"
      ],
      "metadata": {
        "id": "e46c1616"
      },
      "id": "e46c1616"
    },
    {
      "cell_type": "code",
      "source": [
        "import numpy as np\n",
        "\n",
        "def lagrange_base(xs, k, x):\n",
        "    # xs: nós de interpolação (ex.: velocidades conhecidas da tabela)\n",
        "    # k : índice do nó atual (para construir L_k)\n",
        "    # x : ponto ou pontos onde vamos avaliar L_k(x)\n",
        "\n",
        "    xs = np.asarray(xs, dtype=float)  # garante que xs é array NumPy\n",
        "    x = np.asarray(x, dtype=float)    # garante que x também pode ser array\n",
        "    xk = xs[k]                        # valor do nó correspondente ao índice k\n",
        "    L = np.ones_like(x, dtype=float)  # inicializa L(x) = 1 (vai acumular o produto)\n",
        "\n",
        "    # Produto: L_k(x) = ∏ (x - xj) / (xk - xj), para j ≠ k\n",
        "    for j, xj in enumerate(xs):\n",
        "        if j == k:\n",
        "            continue                  # não usamos o termo quando j = k\n",
        "        L *= (x - xj) / (xk - xj)     # multiplica cada fator do produto\n",
        "\n",
        "    return L                          # retorna o valor de L_k(x)\n",
        "\n",
        "\n",
        "# Utilizar essa função que calcula o polinômio interpolador de Lagrange P_n(x)\n",
        "def lagrange_interp(xs, ys, x):\n",
        "    # xs: nós de interpolação (ex.: velocidades conhecidas)\n",
        "    # ys: valores da função nos nós (ex.: consumos conhecidos)\n",
        "    # x : ponto(s) onde queremos calcular P_n(x)\n",
        "\n",
        "    xs = np.asarray(xs, dtype=float)\n",
        "    ys = np.asarray(ys, dtype=float)\n",
        "    x = np.asarray(x, dtype=float)\n",
        "    P = np.zeros_like(x, dtype=float)  # inicializa P(x) = 0\n",
        "\n",
        "    # Soma: P_n(x) = Σ yk * L_k(x)\n",
        "    for k in range(len(xs)):\n",
        "        P += ys[k] * lagrange_base(xs, k, x)  # acumula cada termo da soma\n",
        "\n",
        "    return P  # retorna o valor do polinômio em x"
      ],
      "outputs": [],
      "execution_count": 1,
      "metadata": {
        "id": "fa34433e"
      },
      "id": "fa34433e"
    },
    {
      "cell_type": "markdown",
      "source": [
        "### Função para plotar os pontos e o polinômio interpolador"
      ],
      "metadata": {
        "id": "15b39c6c"
      },
      "id": "15b39c6c"
    },
    {
      "cell_type": "code",
      "source": [
        "import numpy as np\n",
        "import matplotlib.pyplot as plt\n",
        "\n",
        "def plot_interpolacao(xs, ys, pontos_estimativa=None):\n",
        "    \"\"\"\n",
        "    Plota o polinômio interpolador de Lagrange a partir dos dados fornecidos.\n",
        "\n",
        "    Parâmetros:\n",
        "    -----------\n",
        "    xs : array-like\n",
        "        Nós de interpolação (ex.: velocidades conhecidas).\n",
        "    ys : array-like\n",
        "        Valores da função nos nós (ex.: consumos correspondentes).\n",
        "    pontos_estimativa : lista ou array, opcional\n",
        "        Pontos onde se deseja destacar as estimativas no gráfico (ex.: [10, 11]).\n",
        "    \"\"\"\n",
        "\n",
        "    # Cria um eixo denso para desenhar o polinômio\n",
        "    xx = np.linspace(min(xs), max(xs), 600)\n",
        "    Pn = lagrange_interp(xs, ys, xx)\n",
        "\n",
        "    plt.figure(figsize=(8,5))\n",
        "\n",
        "    # Plota os pontos originais da tabela\n",
        "    plt.scatter(xs, ys, label='Dados (tabela)', color='blue')\n",
        "\n",
        "    # Plota o polinômio interpolador\n",
        "    plt.plot(xx, Pn, linestyle='--', label='Polinômio interpolador P_n(x)', color='orange')\n",
        "\n",
        "    # Se pontos de estimativa forem passados, calcula e marca no gráfico\n",
        "    if pontos_estimativa is not None:\n",
        "        pontos_estimativa = np.array(pontos_estimativa)\n",
        "        valores_estimados = lagrange_interp(xs, ys, pontos_estimativa)\n",
        "        plt.scatter(pontos_estimativa, valores_estimados, marker='x', s=80, color='red', label='Estimativas')\n",
        "\n",
        "    # Rótulos e título\n",
        "    plt.xlabel('Velocidade (km/h)')\n",
        "    plt.ylabel('Consumo (km/L)')\n",
        "    plt.title('Interpolação de Lagrange — Consumo vs Velocidade')\n",
        "    plt.legend()\n",
        "    plt.grid(True, linestyle='--', alpha=0.6)\n",
        "    plt.show()"
      ],
      "outputs": [],
      "execution_count": 2,
      "metadata": {
        "id": "2925ce37"
      },
      "id": "2925ce37"
    },
    {
      "cell_type": "markdown",
      "source": [
        "### Parte Prática"
      ],
      "metadata": {
        "id": "2c19938f"
      },
      "id": "2c19938f"
    },
    {
      "cell_type": "markdown",
      "source": [
        "A tabela a seguir apresenta os resultados de testes de consumo de combustível em função da velocidade média de um veículo, obtidos em medições realizadas em diferentes tipos de percurso, incluindo trechos planos e regiões com maior inclinação.\n",
        "\n",
        "| Velocidade (km/h) | Consumo (km/L) |\n",
        "|--------------------|---------------|\n",
        "| 30                 | 10,2          |\n",
        "| 50                 | 14,5          |\n",
        "| 70                 | 15,9          |\n",
        "| 90                 | 16,8          |\n",
        "| 112                | 19,1          |\n",
        "| 130                | 22,5          |\n",
        "| 150                | 20,0          |\n",
        "\n",
        "Com base nesses dados, responda:"
      ],
      "metadata": {
        "id": "563ec1f7"
      },
      "id": "563ec1f7"
    },
    {
      "cell_type": "markdown",
      "source": [
        "1. Faça uma estimativa de consumo considerando as velocidades médias de 50 km/h, 80 km/h e 140 km/h. (Arredondar os resultados para duas casa decimais)"
      ],
      "metadata": {
        "id": "e4b4ab41"
      },
      "id": "e4b4ab41"
    },
    {
      "cell_type": "code",
      "source": [
        "# dados da tabela (velocidade e consumo)\n",
        "xs = [30, 50, 70, 90, 112, 130, 150]\n",
        "ys = [10.2, 14.5, 15.9, 16.8, 19.1, 22.5, 20.0]\n",
        "\n",
        "# pontos a estimar\n",
        "valores = [50, 80, 140]\n",
        "\n",
        "for v in valores:\n",
        "    print(f\"Consumo estimado em {v} km/h: {lagrange_interp(xs, ys, v):.2f} km/L\")"
      ],
      "outputs": [
        {
          "output_type": "stream",
          "name": "stdout",
          "text": [
            "Consumo estimado em 50 km/h: 14.50 km/L\n",
            "Consumo estimado em 80 km/h: 16.33 km/L\n",
            "Consumo estimado em 140 km/h: 23.23 km/L\n"
          ]
        }
      ],
      "execution_count": 6,
      "metadata": {
        "colab": {
          "base_uri": "https://localhost:8080/"
        },
        "id": "d96040e5",
        "outputId": "590a17ea-f8bb-4a9c-d32e-24700a36dabc"
      },
      "id": "d96040e5"
    },
    {
      "cell_type": "markdown",
      "source": [
        "2. Plot um gráfico com os pontos conhecidos e o polinômio interpolador de Lagrange."
      ],
      "metadata": {
        "id": "eb1b1866"
      },
      "id": "eb1b1866"
    },
    {
      "cell_type": "code",
      "source": [
        "plot_interpolacao(xs, ys)"
      ],
      "outputs": [
        {
          "output_type": "display_data",
          "data": {
            "text/plain": [
              "<Figure size 800x500 with 1 Axes>"
            ],
            "image/png": "[encoded data removed]"
          },
          "metadata": {}
        }
      ],
      "execution_count": 7,
      "metadata": {
        "colab": {
          "base_uri": "https://localhost:8080/",
          "height": 487
        },
        "id": "8e990379",
        "outputId": "15e4142c-1ef1-447d-c1a7-6144b276713e"
      },
      "id": "8e990379"
    },
    {
      "cell_type": "markdown",
      "source": [
        "### Parte Teórica"
      ],
      "metadata": {
        "id": "80495772"
      },
      "id": "80495772"
    },
    {
      "cell_type": "markdown",
      "source": [
        "1. Explique, **com suas palavras**, o que significa interpolar um conjunto de dados."
      ],
      "metadata": {
        "id": "a938a469"
      },
      "id": "a938a469"
    },
    {
      "cell_type": "markdown",
      "source": [
        "Resposta: Interpolar um conjunto de dados significa que temos um conjunto de pontos e desejamos estimar valores intermediários entre esses pontos, mediante uma função que passe **diretamente** pelos pontos."
      ],
      "metadata": {
        "id": "5102a39e"
      },
      "id": "5102a39e"
    },
    {
      "cell_type": "markdown",
      "source": [
        "2. Por que o polinômio de Lagrange sempre passa exatamente pelos pontos da tabela?"
      ],
      "metadata": {
        "id": "64b0e2ae"
      },
      "id": "64b0e2ae"
    },
    {
      "cell_type": "markdown",
      "source": [
        "Resposta: Isso ocorre porque na construção do polinômio, todos os termos são 0, com exceção de k = i no somatório, fazendo com que P(xi) = yi, garantindo, assim, que o polinômio passe por todos os pontos."
      ],
      "metadata": {
        "id": "9af5854c"
      },
      "id": "9af5854c"
    }
  ],
  "metadata": {
    "kernelspec": {
      "name": "python",
      "language": "python",
      "display_name": "Pyolite (preview)"
    },
    "language_info": {
      "codemirror_mode": {
        "name": "python",
        "version": 3
      },
      "file_extension": ".py",
      "mimetype": "text/x-python",
      "name": "python",
      "nbconvert_exporter": "python",
      "pygments_lexer": "ipython3",
      "version": "3.8"
    },
    "kernel_info": {
      "name": "python"
    },
    "nteract": {
      "version": "nteract-front-end@1.0.0"
    },
    "colab": {
      "provenance": []
    }
  },
  "nbformat": 4,
  "nbformat_minor": 5
}